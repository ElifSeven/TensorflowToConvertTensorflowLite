{
  "nbformat": 4,
  "nbformat_minor": 0,
  "metadata": {
    "colab": {
      "name": "YOLOv3_to_TFLite_Conversion.ipynb",
      "provenance": [],
      "collapsed_sections": []
    },
    "kernelspec": {
      "name": "python3",
      "display_name": "Python 3"
    },
    "accelerator": "GPU"
  },
  "cells": [
    {
      "cell_type": "markdown",
      "metadata": {
        "id": "jpAVPuboaIhd"
      },
      "source": [
        "**Step 1: Setup TensorFlow 1.x**"
      ]
    },
    {
      "cell_type": "code",
      "metadata": {
        "id": "XB3UqS5baHy_",
        "colab": {
          "base_uri": "https://localhost:8080/"
        },
        "outputId": "3180dff6-45eb-4272-a952-347628c8fbc1"
      },
      "source": [
        "%tensorflow_version 1.x"
      ],
      "execution_count": null,
      "outputs": [
        {
          "output_type": "stream",
          "text": [
            "TensorFlow 1.x selected.\n"
          ],
          "name": "stdout"
        }
      ]
    },
    {
      "cell_type": "code",
      "metadata": {
        "id": "NQ3qDgLGQhFN",
        "colab": {
          "base_uri": "https://localhost:8080/"
        },
        "outputId": "f0bcd055-35a6-4562-a6ec-7f42decca414"
      },
      "source": [
        "import tensorflow as tf\n",
        "print(tf.__version__)"
      ],
      "execution_count": null,
      "outputs": [
        {
          "output_type": "stream",
          "text": [
            "1.15.2\n"
          ],
          "name": "stdout"
        }
      ]
    },
    {
      "cell_type": "markdown",
      "metadata": {
        "id": "qzO1xAfrZ-Wj"
      },
      "source": [
        "**Step 2: Clone the tensorflow-yolo-v3 repository**"
      ]
    },
    {
      "cell_type": "code",
      "metadata": {
        "id": "cotKV7UhZpBI",
        "colab": {
          "base_uri": "https://localhost:8080/"
        },
        "outputId": "c619cf0c-b0d9-42d7-c207-b40df2f7a7d4"
      },
      "source": [
        "# Clone\r\n",
        "!git clone https://github.com/mystic123/tensorflow-yolo-v3"
      ],
      "execution_count": null,
      "outputs": [
        {
          "output_type": "stream",
          "text": [
            "Cloning into 'tensorflow-yolo-v3'...\n",
            "remote: Enumerating objects: 219, done.\u001b[K\n",
            "remote: Total 219 (delta 0), reused 0 (delta 0), pack-reused 219\u001b[K\n",
            "Receiving objects: 100% (219/219), 57.63 KiB | 8.23 MiB/s, done.\n",
            "Resolving deltas: 100% (112/112), done.\n"
          ],
          "name": "stdout"
        }
      ]
    },
    {
      "cell_type": "markdown",
      "metadata": {
        "id": "LBGY4wNjdZpV"
      },
      "source": [
        "**Step 3a: Mount Google Drive**"
      ]
    },
    {
      "cell_type": "code",
      "metadata": {
        "id": "w8G-Y7Y2dgzE",
        "colab": {
          "base_uri": "https://localhost:8080/"
        },
        "outputId": "2317fac4-f47e-452d-fea4-d75764ef76cc"
      },
      "source": [
        "from google.colab import drive\r\n",
        "drive.mount('/content/gdrive')\r\n",
        "!ln -s /content/gdrive/My\\ Drive/ /mydrive\r\n",
        "!ls /mydrive"
      ],
      "execution_count": null,
      "outputs": [
        {
          "output_type": "stream",
          "text": [
            "Mounted at /content/gdrive\n",
            " 2016-04-24\n",
            "'3D Augmented Reality - ProjectA1-ElifSEVEN      .gslides'\n",
            " 3DProject-A1-ElifSeven_1230695.gdoc\n",
            "'Adsız doküman (1).gdoc'\n",
            "'Adsız doküman.gdoc'\n",
            "'Adsız sunu.gslides'\n",
            " AllSbloccoContratto.pdf\n",
            " backup\n",
            " BitirmeProje\n",
            " BitirmeProje1.rar\n",
            "'Colab Notebooks'\n",
            "'COURSE TRACK CHANGE FORM.docx'\n",
            "'Delega ISEE parificato_Authorization form.pdf'\n",
            " demo1ToDoList.zip\n",
            "'Elif Seven_CV.gdoc'\n",
            "'Elif Seven_CV.pdf'\n",
            " ELİFSEVEN-CV.pdf\n",
            "'Elif Seven_CV_updated-2 (1).pdf'\n",
            "'Elif Seven_CV_updated-2.pdf'\n",
            " ELİFSEVEN-CV-UPDATE.pdf\n",
            "'ELİF SEVEN.gdoc'\n",
            "'Epinions Social Network Analysis.gdoc'\n",
            " Evraklar\n",
            " flare0.jpg\n",
            " flare-oil-smoke-dataset.zip\n",
            " flaring-against-blue-sky_1600.jpg\n",
            "'Huawei Demo Task SUNUM.gslides'\n",
            "'Huawei Demo Task SUNUM.pdf'\n",
            "'İngilizce Temel Gramer.pdf'\n",
            "'İş Görüşmeleri.gdoc'\n",
            " italya-doc\n",
            "'Meeting Topics - 01.gdoc'\n",
            " MeetingTopics.gdoc\n",
            "'Mektup .gdoc'\n",
            "'My Drive'\n",
            "'Network Science Homework1 & Homework2 Presentation.gslides'\n",
            " NeuralNetworkHW1-ElifSeven.gdoc\n",
            " NeuralNetworkHW3-ElifSeven.gdoc\n",
            "'Neural NetworksHW2-ElifSeven.gdoc'\n",
            "'Nuf tapu  maaş (1).docx'\n",
            "'Nuf tapu  maaş.docx'\n",
            "'NURSEL SEVEN SGK-ITALYANCA.DOCX'\n",
            " obj.zip\n",
            "'Özgeçmiş (1).gdoc'\n",
            "'Özgeçmiş (2).gdoc'\n",
            "'Özgeçmiş (3).gdoc'\n",
            "'Özgeçmiş (4).gdoc'\n",
            " Özgeçmiş.gdoc\n",
            " photo.jpeg\n",
            "'Police_229892632_0 (1).pdf'\n",
            " Police_229892632_0.pdf\n",
            "'PreScreen_Intern_Dependability_ (1).docx'\n",
            "'PreScreen_Intern_Dependability_ (1).gdoc'\n",
            " PreScreen_Intern_Dependability_.docx\n",
            "'PreScreen_Intern_Dependability_ElifSEven (1).gdoc'\n",
            " PreScreen_Intern_Dependability_ElifSEven.gdoc\n",
            " PreScreen_Intern_Dependability_ElifSEven.pdf\n",
            " PreScreen_Intern_Dependability_.gdoc\n",
            " SchedaISEE002440.pdf\n",
            "'sig list (1).docx'\n",
            "'sig list.docx'\n",
            " SignedDoc.pdf\n",
            " StampaAutocertificazione.pdf\n",
            "'StatementPurpose (1).gdoc'\n",
            " StatementPurpose.gdoc\n",
            " ToDoListApp.zip\n",
            "'Web Application Course Project-ELİF-SEVEN.gslides'\n",
            "'YeniBelge 2019-07-13 19.36 (1).pdf'\n",
            "'YeniBelge 2019-07-13 19.36 (2).pdf'\n",
            "'YeniBelge 2019-07-13 19.36 (3).pdf'\n",
            "'YeniBelge 2019-07-13 19.36 (4).pdf'\n",
            "'YeniBelge 2019-07-13 19.36.pdf'\n",
            "'YeniBelge 2019-07-13 19.45 (1).pdf'\n",
            "'YeniBelge 2019-07-13 19.45 (2).pdf'\n",
            "'YeniBelge 2019-07-13 19.45 (3).pdf'\n",
            "'YeniBelge 2019-07-13 19.45 (4).pdf'\n",
            "'YeniBelge 2019-07-13 19.45.pdf'\n",
            " yolov3\n",
            " yolov3-final\n",
            " yolov3-final2\n",
            " yolov3-flare-detect\n",
            " yolov3-new\n"
          ],
          "name": "stdout"
        }
      ]
    },
    {
      "cell_type": "markdown",
      "metadata": {
        "id": "08Tx_JntayAM"
      },
      "source": [
        "**Step 3b: Navigate to tensorflow-yolo-v3 repository**"
      ]
    },
    {
      "cell_type": "code",
      "metadata": {
        "id": "UwJc6V0Kas2a",
        "colab": {
          "base_uri": "https://localhost:8080/"
        },
        "outputId": "833990ad-b6a8-4723-cf09-10cbafa10d3b"
      },
      "source": [
        "%cd tensorflow-yolo-v3/"
      ],
      "execution_count": null,
      "outputs": [
        {
          "output_type": "stream",
          "text": [
            "/content/tensorflow-yolo-v3\n"
          ],
          "name": "stdout"
        }
      ]
    },
    {
      "cell_type": "markdown",
      "metadata": {
        "id": "m_pVLb1Fa7j_"
      },
      "source": [
        "**Step 4: Download .weights and .classes files**"
      ]
    },
    {
      "cell_type": "code",
      "metadata": {
        "id": "0sI-m0JsLtNJ",
        "colab": {
          "base_uri": "https://localhost:8080/"
        },
        "outputId": "5bfd9fa0-56ab-49f7-e481-c6fed5596c53"
      },
      "source": [
        "!gdown --id <1h3WuNr1yZzdlRam59fN8cawHqtM_avEl>  #classes.txt\r\n",
        "!gdown --id <1BI4xoHzsgbf8HGZv9kEtIVzQCML-3ZXx>  #yolov3_training_last.weights"
      ],
      "execution_count": null,
      "outputs": [
        {
          "output_type": "stream",
          "text": [
            "/bin/bash: -c: line 0: syntax error near unexpected token `newline'\n",
            "/bin/bash: -c: line 0: `gdown --id <1h3WuNr1yZzdlRam59fN8cawHqtM_avEl>  #classes.txt'\n",
            "/bin/bash: -c: line 0: syntax error near unexpected token `newline'\n",
            "/bin/bash: -c: line 0: `gdown --id <1BI4xoHzsgbf8HGZv9kEtIVzQCML-3ZXx>  #yolov3_training_last.weights'\n"
          ],
          "name": "stdout"
        }
      ]
    },
    {
      "cell_type": "markdown",
      "metadata": {
        "id": "uZ2FhhLNa65R"
      },
      "source": [
        "**Step 5: Convert YOLOv3 .weights to .pb**"
      ]
    },
    {
      "cell_type": "code",
      "metadata": {
        "id": "ejvLzFgCauNQ",
        "colab": {
          "base_uri": "https://localhost:8080/"
        },
        "outputId": "a4f2caa4-d8b6-47e6-a963-15e6abf4c92b"
      },
      "source": [
        "!python convert_weights_pb.py --class_names \"/mydrive/yolov3-new/final-rpject-yolo/tensorflowLite/classes.txt\" --weights_file \"/mydrive/yolov3-new/final-rpject-yolo/tensorflowLite/yolov3-custom_last .weights\" --data_format \"NHWC\" "
      ],
      "execution_count": null,
      "outputs": [
        {
          "output_type": "stream",
          "text": [
            "WARNING:tensorflow:\n",
            "The TensorFlow contrib module will not be included in TensorFlow 2.0.\n",
            "For more information, please see:\n",
            "  * https://github.com/tensorflow/community/blob/master/rfcs/20180907-contrib-sunset.md\n",
            "  * https://github.com/tensorflow/addons\n",
            "  * https://github.com/tensorflow/io (for I/O related ops)\n",
            "If you depend on functionality not listed there, please file an issue.\n",
            "\n",
            "WARNING:tensorflow:From convert_weights_pb.py:56: The name tf.app.run is deprecated. Please use tf.compat.v1.app.run instead.\n",
            "\n",
            "WARNING:tensorflow:From convert_weights_pb.py:42: The name tf.placeholder is deprecated. Please use tf.compat.v1.placeholder instead.\n",
            "\n",
            "W0220 18:11:02.139028 139719807031168 module_wrapper.py:139] From convert_weights_pb.py:42: The name tf.placeholder is deprecated. Please use tf.compat.v1.placeholder instead.\n",
            "\n",
            "WARNING:tensorflow:From convert_weights_pb.py:44: The name tf.variable_scope is deprecated. Please use tf.compat.v1.variable_scope instead.\n",
            "\n",
            "W0220 18:11:02.140459 139719807031168 module_wrapper.py:139] From convert_weights_pb.py:44: The name tf.variable_scope is deprecated. Please use tf.compat.v1.variable_scope instead.\n",
            "\n",
            "WARNING:tensorflow:From /tensorflow-1.15.2/python3.6/tensorflow_core/contrib/layers/python/layers/layers.py:1057: Layer.apply (from tensorflow.python.keras.engine.base_layer) is deprecated and will be removed in a future version.\n",
            "Instructions for updating:\n",
            "Please use `layer.__call__` method instead.\n",
            "W0220 18:11:02.143505 139719807031168 deprecation.py:323] From /tensorflow-1.15.2/python3.6/tensorflow_core/contrib/layers/python/layers/layers.py:1057: Layer.apply (from tensorflow.python.keras.engine.base_layer) is deprecated and will be removed in a future version.\n",
            "Instructions for updating:\n",
            "Please use `layer.__call__` method instead.\n",
            "WARNING:tensorflow:From /content/tensorflow-yolo-v3/yolo_v3.py:193: The name tf.image.resize_nearest_neighbor is deprecated. Please use tf.compat.v1.image.resize_nearest_neighbor instead.\n",
            "\n",
            "W0220 18:11:03.713377 139719807031168 module_wrapper.py:139] From /content/tensorflow-yolo-v3/yolo_v3.py:193: The name tf.image.resize_nearest_neighbor is deprecated. Please use tf.compat.v1.image.resize_nearest_neighbor instead.\n",
            "\n",
            "WARNING:tensorflow:From convert_weights_pb.py:46: The name tf.global_variables is deprecated. Please use tf.compat.v1.global_variables instead.\n",
            "\n",
            "W0220 18:11:04.088442 139719807031168 module_wrapper.py:139] From convert_weights_pb.py:46: The name tf.global_variables is deprecated. Please use tf.compat.v1.global_variables instead.\n",
            "\n",
            "WARNING:tensorflow:From /content/tensorflow-yolo-v3/utils.py:93: The name tf.assign is deprecated. Please use tf.compat.v1.assign instead.\n",
            "\n",
            "W0220 18:11:06.183791 139719807031168 module_wrapper.py:139] From /content/tensorflow-yolo-v3/utils.py:93: The name tf.assign is deprecated. Please use tf.compat.v1.assign instead.\n",
            "\n",
            "WARNING:tensorflow:From convert_weights_pb.py:51: The name tf.Session is deprecated. Please use tf.compat.v1.Session instead.\n",
            "\n",
            "W0220 18:11:07.408349 139719807031168 module_wrapper.py:139] From convert_weights_pb.py:51: The name tf.Session is deprecated. Please use tf.compat.v1.Session instead.\n",
            "\n",
            "2021-02-20 18:11:07.409902: I tensorflow/stream_executor/platform/default/dso_loader.cc:44] Successfully opened dynamic library libcuda.so.1\n",
            "2021-02-20 18:11:07.465191: I tensorflow/stream_executor/cuda/cuda_gpu_executor.cc:983] successful NUMA node read from SysFS had negative value (-1), but there must be at least one NUMA node, so returning NUMA node zero\n",
            "2021-02-20 18:11:07.465792: I tensorflow/core/common_runtime/gpu/gpu_device.cc:1639] Found device 0 with properties: \n",
            "name: Tesla T4 major: 7 minor: 5 memoryClockRate(GHz): 1.59\n",
            "pciBusID: 0000:00:04.0\n",
            "2021-02-20 18:11:07.466100: I tensorflow/stream_executor/platform/default/dso_loader.cc:44] Successfully opened dynamic library libcudart.so.10.1\n",
            "2021-02-20 18:11:07.656532: I tensorflow/stream_executor/platform/default/dso_loader.cc:44] Successfully opened dynamic library libcublas.so.10\n",
            "2021-02-20 18:11:07.771203: I tensorflow/stream_executor/platform/default/dso_loader.cc:44] Successfully opened dynamic library libcufft.so.10\n",
            "2021-02-20 18:11:07.818786: I tensorflow/stream_executor/platform/default/dso_loader.cc:44] Successfully opened dynamic library libcurand.so.10\n",
            "2021-02-20 18:11:08.064921: I tensorflow/stream_executor/platform/default/dso_loader.cc:44] Successfully opened dynamic library libcusolver.so.10\n",
            "2021-02-20 18:11:08.118464: I tensorflow/stream_executor/platform/default/dso_loader.cc:44] Successfully opened dynamic library libcusparse.so.10\n",
            "2021-02-20 18:11:08.614247: I tensorflow/stream_executor/platform/default/dso_loader.cc:44] Successfully opened dynamic library libcudnn.so.7\n",
            "2021-02-20 18:11:08.614420: I tensorflow/stream_executor/cuda/cuda_gpu_executor.cc:983] successful NUMA node read from SysFS had negative value (-1), but there must be at least one NUMA node, so returning NUMA node zero\n",
            "2021-02-20 18:11:08.615119: I tensorflow/stream_executor/cuda/cuda_gpu_executor.cc:983] successful NUMA node read from SysFS had negative value (-1), but there must be at least one NUMA node, so returning NUMA node zero\n",
            "2021-02-20 18:11:08.615652: I tensorflow/core/common_runtime/gpu/gpu_device.cc:1767] Adding visible gpu devices: 0\n",
            "2021-02-20 18:11:08.624803: I tensorflow/core/platform/profile_utils/cpu_utils.cc:94] CPU Frequency: 2199995000 Hz\n",
            "2021-02-20 18:11:08.625076: I tensorflow/compiler/xla/service/service.cc:168] XLA service 0x1d63480 initialized for platform Host (this does not guarantee that XLA will be used). Devices:\n",
            "2021-02-20 18:11:08.625106: I tensorflow/compiler/xla/service/service.cc:176]   StreamExecutor device (0): Host, Default Version\n",
            "2021-02-20 18:11:08.747695: I tensorflow/stream_executor/cuda/cuda_gpu_executor.cc:983] successful NUMA node read from SysFS had negative value (-1), but there must be at least one NUMA node, so returning NUMA node zero\n",
            "2021-02-20 18:11:08.748407: I tensorflow/compiler/xla/service/service.cc:168] XLA service 0x1d63d40 initialized for platform CUDA (this does not guarantee that XLA will be used). Devices:\n",
            "2021-02-20 18:11:08.748443: I tensorflow/compiler/xla/service/service.cc:176]   StreamExecutor device (0): Tesla T4, Compute Capability 7.5\n",
            "2021-02-20 18:11:08.748741: I tensorflow/stream_executor/cuda/cuda_gpu_executor.cc:983] successful NUMA node read from SysFS had negative value (-1), but there must be at least one NUMA node, so returning NUMA node zero\n",
            "2021-02-20 18:11:08.749306: I tensorflow/core/common_runtime/gpu/gpu_device.cc:1639] Found device 0 with properties: \n",
            "name: Tesla T4 major: 7 minor: 5 memoryClockRate(GHz): 1.59\n",
            "pciBusID: 0000:00:04.0\n",
            "2021-02-20 18:11:08.749385: I tensorflow/stream_executor/platform/default/dso_loader.cc:44] Successfully opened dynamic library libcudart.so.10.1\n",
            "2021-02-20 18:11:08.749413: I tensorflow/stream_executor/platform/default/dso_loader.cc:44] Successfully opened dynamic library libcublas.so.10\n",
            "2021-02-20 18:11:08.749440: I tensorflow/stream_executor/platform/default/dso_loader.cc:44] Successfully opened dynamic library libcufft.so.10\n",
            "2021-02-20 18:11:08.749465: I tensorflow/stream_executor/platform/default/dso_loader.cc:44] Successfully opened dynamic library libcurand.so.10\n",
            "2021-02-20 18:11:08.749489: I tensorflow/stream_executor/platform/default/dso_loader.cc:44] Successfully opened dynamic library libcusolver.so.10\n",
            "2021-02-20 18:11:08.749513: I tensorflow/stream_executor/platform/default/dso_loader.cc:44] Successfully opened dynamic library libcusparse.so.10\n",
            "2021-02-20 18:11:08.749537: I tensorflow/stream_executor/platform/default/dso_loader.cc:44] Successfully opened dynamic library libcudnn.so.7\n",
            "2021-02-20 18:11:08.749638: I tensorflow/stream_executor/cuda/cuda_gpu_executor.cc:983] successful NUMA node read from SysFS had negative value (-1), but there must be at least one NUMA node, so returning NUMA node zero\n",
            "2021-02-20 18:11:08.750230: I tensorflow/stream_executor/cuda/cuda_gpu_executor.cc:983] successful NUMA node read from SysFS had negative value (-1), but there must be at least one NUMA node, so returning NUMA node zero\n",
            "2021-02-20 18:11:08.750759: I tensorflow/core/common_runtime/gpu/gpu_device.cc:1767] Adding visible gpu devices: 0\n",
            "2021-02-20 18:11:08.753312: I tensorflow/stream_executor/platform/default/dso_loader.cc:44] Successfully opened dynamic library libcudart.so.10.1\n",
            "2021-02-20 18:11:08.755586: I tensorflow/core/common_runtime/gpu/gpu_device.cc:1180] Device interconnect StreamExecutor with strength 1 edge matrix:\n",
            "2021-02-20 18:11:08.755637: I tensorflow/core/common_runtime/gpu/gpu_device.cc:1186]      0 \n",
            "2021-02-20 18:11:08.755659: I tensorflow/core/common_runtime/gpu/gpu_device.cc:1199] 0:   N \n",
            "2021-02-20 18:11:08.756917: I tensorflow/stream_executor/cuda/cuda_gpu_executor.cc:983] successful NUMA node read from SysFS had negative value (-1), but there must be at least one NUMA node, so returning NUMA node zero\n",
            "2021-02-20 18:11:08.757533: I tensorflow/stream_executor/cuda/cuda_gpu_executor.cc:983] successful NUMA node read from SysFS had negative value (-1), but there must be at least one NUMA node, so returning NUMA node zero\n",
            "2021-02-20 18:11:08.758098: W tensorflow/core/common_runtime/gpu/gpu_bfc_allocator.cc:39] Overriding allow_growth setting because the TF_FORCE_GPU_ALLOW_GROWTH environment variable is set. Original config value was 0.\n",
            "2021-02-20 18:11:08.758148: I tensorflow/core/common_runtime/gpu/gpu_device.cc:1325] Created TensorFlow device (/job:localhost/replica:0/task:0/device:GPU:0 with 14257 MB memory) -> physical GPU (device: 0, name: Tesla T4, pci bus id: 0000:00:04.0, compute capability: 7.5)\n",
            "WARNING:tensorflow:From /content/tensorflow-yolo-v3/utils.py:52: The name tf.get_default_graph is deprecated. Please use tf.compat.v1.get_default_graph instead.\n",
            "\n",
            "W0220 18:11:17.770719 139719807031168 module_wrapper.py:139] From /content/tensorflow-yolo-v3/utils.py:52: The name tf.get_default_graph is deprecated. Please use tf.compat.v1.get_default_graph instead.\n",
            "\n",
            "WARNING:tensorflow:From /content/tensorflow-yolo-v3/utils.py:53: convert_variables_to_constants (from tensorflow.python.framework.graph_util_impl) is deprecated and will be removed in a future version.\n",
            "Instructions for updating:\n",
            "Use `tf.compat.v1.graph_util.convert_variables_to_constants`\n",
            "W0220 18:11:18.306097 139719807031168 deprecation.py:323] From /content/tensorflow-yolo-v3/utils.py:53: convert_variables_to_constants (from tensorflow.python.framework.graph_util_impl) is deprecated and will be removed in a future version.\n",
            "Instructions for updating:\n",
            "Use `tf.compat.v1.graph_util.convert_variables_to_constants`\n",
            "WARNING:tensorflow:From /tensorflow-1.15.2/python3.6/tensorflow_core/python/framework/graph_util_impl.py:277: extract_sub_graph (from tensorflow.python.framework.graph_util_impl) is deprecated and will be removed in a future version.\n",
            "Instructions for updating:\n",
            "Use `tf.compat.v1.graph_util.extract_sub_graph`\n",
            "W0220 18:11:18.306391 139719807031168 deprecation.py:323] From /tensorflow-1.15.2/python3.6/tensorflow_core/python/framework/graph_util_impl.py:277: extract_sub_graph (from tensorflow.python.framework.graph_util_impl) is deprecated and will be removed in a future version.\n",
            "Instructions for updating:\n",
            "Use `tf.compat.v1.graph_util.extract_sub_graph`\n",
            "INFO:tensorflow:Froze 366 variables.\n",
            "I0220 18:11:18.578382 139719807031168 graph_util_impl.py:334] Froze 366 variables.\n",
            "INFO:tensorflow:Converted 366 variables to const ops.\n",
            "I0220 18:11:18.794692 139719807031168 graph_util_impl.py:394] Converted 366 variables to const ops.\n",
            "WARNING:tensorflow:From /content/tensorflow-yolo-v3/utils.py:56: The name tf.gfile.GFile is deprecated. Please use tf.io.gfile.GFile instead.\n",
            "\n",
            "W0220 18:11:18.807511 139719807031168 module_wrapper.py:139] From /content/tensorflow-yolo-v3/utils.py:56: The name tf.gfile.GFile is deprecated. Please use tf.io.gfile.GFile instead.\n",
            "\n",
            "1186 ops written to frozen_darknet_yolov3_model.pb.\n"
          ],
          "name": "stdout"
        }
      ]
    },
    {
      "cell_type": "markdown",
      "metadata": {
        "id": "zaqOLAKCRzXR"
      },
      "source": [
        "**Step 6a: Restart runtime**\r\n",
        "\r\n",
        "Click on Runtime on the menu bar and select **Restart runtime.**"
      ]
    },
    {
      "cell_type": "markdown",
      "metadata": {
        "id": "uzIegyxtG036"
      },
      "source": [
        "**Step 6b: Setup TensorFlow 2.x**"
      ]
    },
    {
      "cell_type": "code",
      "metadata": {
        "id": "fqPnFp40G4LK"
      },
      "source": [
        "%tensorflow_version 2.x"
      ],
      "execution_count": null,
      "outputs": []
    },
    {
      "cell_type": "code",
      "metadata": {
        "id": "ZxxCUjPSG8MK",
        "colab": {
          "base_uri": "https://localhost:8080/"
        },
        "outputId": "b0e031ec-5272-41f2-c90c-a777a3621c3e"
      },
      "source": [
        "import tensorflow as tf\r\n",
        "print(tf.__version__)"
      ],
      "execution_count": null,
      "outputs": [
        {
          "output_type": "stream",
          "text": [
            "2.4.1\n"
          ],
          "name": "stdout"
        }
      ]
    },
    {
      "cell_type": "code",
      "metadata": {
        "id": "jyVdQnElHJ9X"
      },
      "source": [
        "import tempfile\r\n",
        "import os\r\n",
        "import glob"
      ],
      "execution_count": null,
      "outputs": []
    },
    {
      "cell_type": "markdown",
      "metadata": {
        "id": "GOgfmKxQHuKz"
      },
      "source": [
        "**Step 7a: Navigate to tensorflow-yolo-v3 repository**"
      ]
    },
    {
      "cell_type": "code",
      "metadata": {
        "id": "RhHA4a3ZH-I3",
        "colab": {
          "base_uri": "https://localhost:8080/"
        },
        "outputId": "910daab2-7ae6-4852-fe1b-dfd61d344d67"
      },
      "source": [
        "%cd tensorflow-yolo-v3/"
      ],
      "execution_count": null,
      "outputs": [
        {
          "output_type": "stream",
          "text": [
            "/content/tensorflow-yolo-v3\n"
          ],
          "name": "stdout"
        }
      ]
    },
    {
      "cell_type": "markdown",
      "metadata": {
        "id": "NEXaieEgFMrz"
      },
      "source": [
        "**Step 7b: Check input and output nodes of neural network**\r\n"
      ]
    },
    {
      "cell_type": "code",
      "metadata": {
        "id": "w5CtnjgUFM6L",
        "colab": {
          "base_uri": "https://localhost:8080/"
        },
        "outputId": "d14b9da1-9fd5-4cde-bed0-414b1ce3ed5f"
      },
      "source": [
        "import tensorflow.compat.v1 as tf\r\n",
        "gf = tf.GraphDef()   \r\n",
        "m_file = open('frozen_darknet_yolov3_model.pb','rb')\r\n",
        "gf.ParseFromString(m_file.read())\r\n",
        "\r\n",
        "with open('somefile.txt', 'a') as the_file:\r\n",
        "     for n in gf.node:\r\n",
        "         the_file.write(n.name+'\\n')\r\n",
        "\r\n",
        "file = open('somefile.txt','r')\r\n",
        "data = file.readlines()\r\n",
        "output = data[len(data)-1]\r\n",
        "print(\"Output array = \", output)\r\n",
        "\r\n",
        "file.seek ( 0 )\r\n",
        "input=file.readline()\r\n",
        "print(\"Input array = \", input)"
      ],
      "execution_count": null,
      "outputs": [
        {
          "output_type": "stream",
          "text": [
            "Output array =  output_boxes\n",
            "\n",
            "Input array =  inputs\n",
            "\n"
          ],
          "name": "stdout"
        }
      ]
    },
    {
      "cell_type": "markdown",
      "metadata": {
        "id": "2WrlQvOulsMR"
      },
      "source": [
        "**Step 8: Convert frozen_darknet_yolov3_model.pb to .tflite**"
      ]
    },
    {
      "cell_type": "code",
      "metadata": {
        "id": "dU7AODz3SqSv",
        "colab": {
          "base_uri": "https://localhost:8080/"
        },
        "outputId": "c0dfb061-42db-41e4-9dcf-d4c6c097bd5c"
      },
      "source": [
        "# Reference: https://github.com/sayakpaul/Adventures-in-TensorFlow-Lite/blob/master/DeepLabV3/DeepLab_TFLite_COCO.ipynb\n",
        "# Load the TensorFlow model\n",
        "# The preprocessing and the post-processing steps should not be included in the TF Lite model graph \n",
        "# because some operations (ArgMax) might not support the delegates. \n",
        "# Insepct the graph using Netron https://lutzroeder.github.io/netron/\n",
        "converter = tf.compat.v1.lite.TFLiteConverter.from_frozen_graph(\n",
        "    graph_def_file='/content/tensorflow-yolo-v3/frozen_darknet_yolov3_model.pb', \n",
        "    input_arrays = ['inputs'],   # Here, 'inputs' is the value of input array from Step 7b\n",
        "    output_arrays = ['output_boxes'], # Here, 'output_boxes' is the value of output array from Step 7b\n",
        "    input_shapes={'inputs': [1, 416, 416, 3]} # Here, 'inputs' is the value of input array from Step 7b\n",
        ")\n",
        "\n",
        "# Optional: Perform the simplest optimization known as post-training dynamic range quantization.\n",
        "# https://www.tensorflow.org/lite/performance/post_training_quantization#dynamic_range_quantization\n",
        "# You can refer to the same document for other types of optimizations.\n",
        "converter.optimizations = [tf.lite.Optimize.DEFAULT]\n",
        "\n",
        "# Convert to TFLite Model\n",
        "tflite_model = converter.convert()\n",
        "\n",
        "_, dynamic_tflite_path = tempfile.mkstemp('.tflite')\n",
        "tflite_model_size = open(dynamic_tflite_path, 'wb').write(tflite_model)\n",
        "tf_model_size = os.path.getsize('/content/tensorflow-yolo-v3/frozen_darknet_yolov3_model.pb')\n",
        "print('TensorFlow Model is  {} bytes'.format(tf_model_size))\n",
        "print('TFLite Model is      {} bytes'.format(tflite_model_size))\n",
        "print('Post training dynamic range quantization saves {} bytes'.format(tf_model_size-tflite_model_size))"
      ],
      "execution_count": null,
      "outputs": [
        {
          "output_type": "stream",
          "text": [
            "TensorFlow Model is  246555459 bytes\n",
            "TFLite Model is      62362928 bytes\n",
            "Post training dynamic range quantization saves 184192531 bytes\n"
          ],
          "name": "stdout"
        }
      ]
    },
    {
      "cell_type": "code",
      "metadata": {
        "id": "AjQjJzhtUldF",
        "colab": {
          "base_uri": "https://localhost:8080/"
        },
        "outputId": "a31320a4-478d-4e72-8b6e-fed5bda5d8b9"
      },
      "source": [
        "!ls -lh {dynamic_tflite_path}"
      ],
      "execution_count": null,
      "outputs": [
        {
          "output_type": "stream",
          "text": [
            "-rw------- 1 root root 60M Feb 20 18:12 /tmp/tmp9cjmzvb4.tflite\n"
          ],
          "name": "stdout"
        }
      ]
    },
    {
      "cell_type": "markdown",
      "metadata": {
        "id": "66xGlBxuKkUW"
      },
      "source": [
        "**Step 9: Move the .tflite model into your Google Drive folder**"
      ]
    },
    {
      "cell_type": "code",
      "metadata": {
        "id": "YGm8KJnWfT9A",
        "colab": {
          "base_uri": "https://localhost:8080/"
        },
        "outputId": "4e2f4d0e-9353-4dfa-bdf5-a67cf7b0d567"
      },
      "source": [
        "tflite_file = ''\r\n",
        "tflite_file = tflite_file.join(glob.glob(\"/tmp/*.tflite\")) # Find the temp file of type .tflite\r\n",
        "tflite_file = tflite_file[5:len(tflite_file)]  # Extract .tflite file name.\r\n",
        "\r\n",
        "%cd ..\r\n",
        "%cd ../tmp\r\n",
        "os.rename(tflite_file, 'detect.tflite') # Rename the temp .tflite to detect.tflite\r\n",
        "%mv detect.tflite ../content/tensorflow-yolo-v3//  # Move detect.tflite to Goolge Drive"
      ],
      "execution_count": null,
      "outputs": [
        {
          "output_type": "stream",
          "text": [
            "/\n",
            "/tmp\n"
          ],
          "name": "stdout"
        }
      ]
    },
    {
      "cell_type": "markdown",
      "metadata": {
        "id": "euYv3Mbqn83u"
      },
      "source": [
        "**Step 10: Model Inference**"
      ]
    },
    {
      "cell_type": "code",
      "metadata": {
        "id": "-627lZJqmG_w"
      },
      "source": [
        "interpreter = tf.lite.Interpreter(model_path='../content/tensorflow-yolo-v3/detect.tflite')\r\n",
        "\r\n",
        "input_details = interpreter.get_input_details()\r\n",
        "output_details = interpreter.get_output_details()"
      ],
      "execution_count": null,
      "outputs": []
    },
    {
      "cell_type": "code",
      "metadata": {
        "id": "2cMM4VQCVEIT",
        "colab": {
          "base_uri": "https://localhost:8080/"
        },
        "outputId": "a538b81c-c461-49a6-818e-8d68205adf5a"
      },
      "source": [
        "input_details"
      ],
      "execution_count": null,
      "outputs": [
        {
          "output_type": "execute_result",
          "data": {
            "text/plain": [
              "[{'dtype': numpy.float32,\n",
              "  'index': 0,\n",
              "  'name': 'inputs',\n",
              "  'quantization': (0.0, 0),\n",
              "  'quantization_parameters': {'quantized_dimension': 0,\n",
              "   'scales': array([], dtype=float32),\n",
              "   'zero_points': array([], dtype=int32)},\n",
              "  'shape': array([  1, 416, 416,   3], dtype=int32),\n",
              "  'shape_signature': array([  1, 416, 416,   3], dtype=int32),\n",
              "  'sparsity_parameters': {}}]"
            ]
          },
          "metadata": {
            "tags": []
          },
          "execution_count": 37
        }
      ]
    },
    {
      "cell_type": "code",
      "metadata": {
        "id": "eX6IPE4GVGiO",
        "colab": {
          "base_uri": "https://localhost:8080/"
        },
        "outputId": "b3b3068b-3886-48b6-af5d-e8615f94ab2c"
      },
      "source": [
        "output_details"
      ],
      "execution_count": null,
      "outputs": [
        {
          "output_type": "execute_result",
          "data": {
            "text/plain": [
              "[{'dtype': numpy.float32,\n",
              "  'index': 407,\n",
              "  'name': 'output_boxes',\n",
              "  'quantization': (0.0, 0),\n",
              "  'quantization_parameters': {'quantized_dimension': 0,\n",
              "   'scales': array([], dtype=float32),\n",
              "   'zero_points': array([], dtype=int32)},\n",
              "  'shape': array([    1, 10647,     9], dtype=int32),\n",
              "  'shape_signature': array([    1, 10647,     9], dtype=int32),\n",
              "  'sparsity_parameters': {}}]"
            ]
          },
          "metadata": {
            "tags": []
          },
          "execution_count": 38
        }
      ]
    },
    {
      "cell_type": "markdown",
      "metadata": {
        "id": "3grKbBqMoRjA"
      },
      "source": [
        "**Step 11: Navigate to Google Drive**"
      ]
    },
    {
      "cell_type": "code",
      "metadata": {
        "id": "7moYt8mFh8-9",
        "colab": {
          "base_uri": "https://localhost:8080/"
        },
        "outputId": "bf9fe5e5-7fcf-4c20-8437-09bfcc911a10"
      },
      "source": [
        "%cd /content/gdrive/MyDrive/yolov3-new/final-rpject-yolo/tensorflowLite/test_images"
      ],
      "execution_count": null,
      "outputs": [
        {
          "output_type": "stream",
          "text": [
            "/content/gdrive/MyDrive/yolov3-new/final-rpject-yolo/tensorflowLite/test_images\n"
          ],
          "name": "stdout"
        }
      ]
    },
    {
      "cell_type": "code",
      "metadata": {
        "colab": {
          "base_uri": "https://localhost:8080/",
          "height": 1000
        },
        "id": "126El1uD1-p1",
        "outputId": "a1dd765d-26c3-46ec-98eb-ed60b249c216"
      },
      "source": [
        "pip install tensorflow==2.3.1\n"
      ],
      "execution_count": null,
      "outputs": [
        {
          "output_type": "stream",
          "text": [
            "Collecting tensorflow==2.3.1\n",
            "\u001b[?25l  Downloading https://files.pythonhosted.org/packages/ad/ad/769c195c72ac72040635c66cd9ba7b0f4b4fc1ac67e59b99fa6988446c22/tensorflow-2.3.1-cp36-cp36m-manylinux2010_x86_64.whl (320.4MB)\n",
            "\u001b[K     |████████████████████████████████| 320.4MB 54kB/s \n",
            "\u001b[?25hRequirement already satisfied: protobuf>=3.9.2 in /usr/local/lib/python3.6/dist-packages (from tensorflow==2.3.1) (3.12.4)\n",
            "Requirement already satisfied: h5py<2.11.0,>=2.10.0 in /usr/local/lib/python3.6/dist-packages (from tensorflow==2.3.1) (2.10.0)\n",
            "Collecting numpy<1.19.0,>=1.16.0\n",
            "\u001b[?25l  Downloading https://files.pythonhosted.org/packages/b3/a9/b1bc4c935ed063766bce7d3e8c7b20bd52e515ff1c732b02caacf7918e5a/numpy-1.18.5-cp36-cp36m-manylinux1_x86_64.whl (20.1MB)\n",
            "\u001b[K     |████████████████████████████████| 20.1MB 1.4MB/s \n",
            "\u001b[?25hRequirement already satisfied: wheel>=0.26 in /usr/local/lib/python3.6/dist-packages (from tensorflow==2.3.1) (0.36.2)\n",
            "Requirement already satisfied: six>=1.12.0 in /usr/local/lib/python3.6/dist-packages (from tensorflow==2.3.1) (1.15.0)\n",
            "Requirement already satisfied: termcolor>=1.1.0 in /usr/local/lib/python3.6/dist-packages (from tensorflow==2.3.1) (1.1.0)\n",
            "Requirement already satisfied: opt-einsum>=2.3.2 in /usr/local/lib/python3.6/dist-packages (from tensorflow==2.3.1) (3.3.0)\n",
            "Requirement already satisfied: gast==0.3.3 in /usr/local/lib/python3.6/dist-packages (from tensorflow==2.3.1) (0.3.3)\n",
            "Requirement already satisfied: wrapt>=1.11.1 in /usr/local/lib/python3.6/dist-packages (from tensorflow==2.3.1) (1.12.1)\n",
            "Collecting tensorflow-estimator<2.4.0,>=2.3.0\n",
            "\u001b[?25l  Downloading https://files.pythonhosted.org/packages/e9/ed/5853ec0ae380cba4588eab1524e18ece1583b65f7ae0e97321f5ff9dfd60/tensorflow_estimator-2.3.0-py2.py3-none-any.whl (459kB)\n",
            "\u001b[K     |████████████████████████████████| 460kB 58.3MB/s \n",
            "\u001b[?25hRequirement already satisfied: grpcio>=1.8.6 in /usr/local/lib/python3.6/dist-packages (from tensorflow==2.3.1) (1.32.0)\n",
            "Requirement already satisfied: google-pasta>=0.1.8 in /usr/local/lib/python3.6/dist-packages (from tensorflow==2.3.1) (0.2.0)\n",
            "Requirement already satisfied: absl-py>=0.7.0 in /usr/local/lib/python3.6/dist-packages (from tensorflow==2.3.1) (0.10.0)\n",
            "Requirement already satisfied: keras-preprocessing<1.2,>=1.1.1 in /usr/local/lib/python3.6/dist-packages (from tensorflow==2.3.1) (1.1.2)\n",
            "Requirement already satisfied: astunparse==1.6.3 in /usr/local/lib/python3.6/dist-packages (from tensorflow==2.3.1) (1.6.3)\n",
            "Requirement already satisfied: tensorboard<3,>=2.3.0 in /usr/local/lib/python3.6/dist-packages (from tensorflow==2.3.1) (2.4.1)\n",
            "Requirement already satisfied: setuptools in /usr/local/lib/python3.6/dist-packages (from protobuf>=3.9.2->tensorflow==2.3.1) (53.0.0)\n",
            "Requirement already satisfied: requests<3,>=2.21.0 in /usr/local/lib/python3.6/dist-packages (from tensorboard<3,>=2.3.0->tensorflow==2.3.1) (2.23.0)\n",
            "Requirement already satisfied: google-auth<2,>=1.6.3 in /usr/local/lib/python3.6/dist-packages (from tensorboard<3,>=2.3.0->tensorflow==2.3.1) (1.25.0)\n",
            "Requirement already satisfied: tensorboard-plugin-wit>=1.6.0 in /usr/local/lib/python3.6/dist-packages (from tensorboard<3,>=2.3.0->tensorflow==2.3.1) (1.8.0)\n",
            "Requirement already satisfied: markdown>=2.6.8 in /usr/local/lib/python3.6/dist-packages (from tensorboard<3,>=2.3.0->tensorflow==2.3.1) (3.3.3)\n",
            "Requirement already satisfied: werkzeug>=0.11.15 in /usr/local/lib/python3.6/dist-packages (from tensorboard<3,>=2.3.0->tensorflow==2.3.1) (1.0.1)\n",
            "Requirement already satisfied: google-auth-oauthlib<0.5,>=0.4.1 in /usr/local/lib/python3.6/dist-packages (from tensorboard<3,>=2.3.0->tensorflow==2.3.1) (0.4.2)\n",
            "Requirement already satisfied: idna<3,>=2.5 in /usr/local/lib/python3.6/dist-packages (from requests<3,>=2.21.0->tensorboard<3,>=2.3.0->tensorflow==2.3.1) (2.10)\n",
            "Requirement already satisfied: certifi>=2017.4.17 in /usr/local/lib/python3.6/dist-packages (from requests<3,>=2.21.0->tensorboard<3,>=2.3.0->tensorflow==2.3.1) (2020.12.5)\n",
            "Requirement already satisfied: chardet<4,>=3.0.2 in /usr/local/lib/python3.6/dist-packages (from requests<3,>=2.21.0->tensorboard<3,>=2.3.0->tensorflow==2.3.1) (3.0.4)\n",
            "Requirement already satisfied: urllib3!=1.25.0,!=1.25.1,<1.26,>=1.21.1 in /usr/local/lib/python3.6/dist-packages (from requests<3,>=2.21.0->tensorboard<3,>=2.3.0->tensorflow==2.3.1) (1.24.3)\n",
            "Requirement already satisfied: cachetools<5.0,>=2.0.0 in /usr/local/lib/python3.6/dist-packages (from google-auth<2,>=1.6.3->tensorboard<3,>=2.3.0->tensorflow==2.3.1) (4.2.1)\n",
            "Requirement already satisfied: rsa<5,>=3.1.4; python_version >= \"3.6\" in /usr/local/lib/python3.6/dist-packages (from google-auth<2,>=1.6.3->tensorboard<3,>=2.3.0->tensorflow==2.3.1) (4.7)\n",
            "Requirement already satisfied: pyasn1-modules>=0.2.1 in /usr/local/lib/python3.6/dist-packages (from google-auth<2,>=1.6.3->tensorboard<3,>=2.3.0->tensorflow==2.3.1) (0.2.8)\n",
            "Requirement already satisfied: importlib-metadata; python_version < \"3.8\" in /usr/local/lib/python3.6/dist-packages (from markdown>=2.6.8->tensorboard<3,>=2.3.0->tensorflow==2.3.1) (3.4.0)\n",
            "Requirement already satisfied: requests-oauthlib>=0.7.0 in /usr/local/lib/python3.6/dist-packages (from google-auth-oauthlib<0.5,>=0.4.1->tensorboard<3,>=2.3.0->tensorflow==2.3.1) (1.3.0)\n",
            "Requirement already satisfied: pyasn1>=0.1.3 in /usr/local/lib/python3.6/dist-packages (from rsa<5,>=3.1.4; python_version >= \"3.6\"->google-auth<2,>=1.6.3->tensorboard<3,>=2.3.0->tensorflow==2.3.1) (0.4.8)\n",
            "Requirement already satisfied: zipp>=0.5 in /usr/local/lib/python3.6/dist-packages (from importlib-metadata; python_version < \"3.8\"->markdown>=2.6.8->tensorboard<3,>=2.3.0->tensorflow==2.3.1) (3.4.0)\n",
            "Requirement already satisfied: typing-extensions>=3.6.4; python_version < \"3.8\" in /usr/local/lib/python3.6/dist-packages (from importlib-metadata; python_version < \"3.8\"->markdown>=2.6.8->tensorboard<3,>=2.3.0->tensorflow==2.3.1) (3.7.4.3)\n",
            "Requirement already satisfied: oauthlib>=3.0.0 in /usr/local/lib/python3.6/dist-packages (from requests-oauthlib>=0.7.0->google-auth-oauthlib<0.5,>=0.4.1->tensorboard<3,>=2.3.0->tensorflow==2.3.1) (3.1.0)\n",
            "\u001b[31mERROR: datascience 0.10.6 has requirement folium==0.2.1, but you'll have folium 0.8.3 which is incompatible.\u001b[0m\n",
            "\u001b[31mERROR: albumentations 0.1.12 has requirement imgaug<0.2.7,>=0.2.5, but you'll have imgaug 0.2.9 which is incompatible.\u001b[0m\n",
            "Installing collected packages: numpy, tensorflow-estimator, tensorflow\n",
            "  Found existing installation: numpy 1.19.5\n",
            "    Uninstalling numpy-1.19.5:\n",
            "      Successfully uninstalled numpy-1.19.5\n",
            "  Found existing installation: tensorflow-estimator 2.4.0\n",
            "    Uninstalling tensorflow-estimator-2.4.0:\n",
            "      Successfully uninstalled tensorflow-estimator-2.4.0\n",
            "  Found existing installation: tensorflow 2.4.1\n",
            "    Uninstalling tensorflow-2.4.1:\n",
            "      Successfully uninstalled tensorflow-2.4.1\n",
            "Successfully installed numpy-1.18.5 tensorflow-2.3.1 tensorflow-estimator-2.3.0\n"
          ],
          "name": "stdout"
        },
        {
          "output_type": "display_data",
          "data": {
            "application/vnd.colab-display-data+json": {
              "pip_warning": {
                "packages": [
                  "numpy",
                  "tensorflow"
                ]
              }
            }
          },
          "metadata": {
            "tags": []
          }
        }
      ]
    },
    {
      "cell_type": "code",
      "metadata": {
        "colab": {
          "base_uri": "https://localhost:8080/"
        },
        "id": "qAruN5Dv1-sW",
        "outputId": "66842230-7323-4e63-b605-7b1f79c8c60c"
      },
      "source": [
        "pip install opencv-python\n"
      ],
      "execution_count": null,
      "outputs": [
        {
          "output_type": "stream",
          "text": [
            "Requirement already satisfied: opencv-python in /usr/local/lib/python3.6/dist-packages (4.1.2.30)\n",
            "Requirement already satisfied: numpy>=1.11.3 in /usr/local/lib/python3.6/dist-packages (from opencv-python) (1.18.5)\n"
          ],
          "name": "stdout"
        }
      ]
    },
    {
      "cell_type": "code",
      "metadata": {
        "colab": {
          "base_uri": "https://localhost:8080/"
        },
        "id": "EvCiSbvU1-vY",
        "outputId": "36fed4b2-d2cf-4fb8-967a-66b71762673c"
      },
      "source": [
        "pip install opencv-contrib-python\n"
      ],
      "execution_count": null,
      "outputs": [
        {
          "output_type": "stream",
          "text": [
            "Requirement already satisfied: opencv-contrib-python in /usr/local/lib/python3.6/dist-packages (4.1.2.30)\n",
            "Requirement already satisfied: numpy>=1.11.3 in /usr/local/lib/python3.6/dist-packages (from opencv-contrib-python) (1.18.5)\n"
          ],
          "name": "stdout"
        }
      ]
    },
    {
      "cell_type": "code",
      "metadata": {
        "colab": {
          "base_uri": "https://localhost:8080/"
        },
        "id": "4p9f7xSl1-yD",
        "outputId": "9a9df8c3-cdf6-49ac-e374-a70fa4acd1e4"
      },
      "source": [
        "pip install pillow\n"
      ],
      "execution_count": null,
      "outputs": [
        {
          "output_type": "stream",
          "text": [
            "Requirement already satisfied: pillow in /usr/local/lib/python3.6/dist-packages (7.0.0)\n"
          ],
          "name": "stdout"
        }
      ]
    },
    {
      "cell_type": "code",
      "metadata": {
        "colab": {
          "base_uri": "https://localhost:8080/"
        },
        "id": "aZDQbbtz2Ct8",
        "outputId": "343243a0-1fe7-40c9-ae98-fa742f91727c"
      },
      "source": [
        "pip install numpy\n"
      ],
      "execution_count": null,
      "outputs": [
        {
          "output_type": "stream",
          "text": [
            "Requirement already satisfied: numpy in /usr/local/lib/python3.6/dist-packages (1.18.5)\n"
          ],
          "name": "stdout"
        }
      ]
    },
    {
      "cell_type": "markdown",
      "metadata": {
        "id": "DGyM3zmToXPw"
      },
      "source": [
        "**Step 12: Test the model**"
      ]
    },
    {
      "cell_type": "code",
      "metadata": {
        "id": "E_Uw2xgih9tp",
        "colab": {
          "base_uri": "https://localhost:8080/"
        },
        "outputId": "401429e1-cf59-4b28-c5e8-6747b45b0245"
      },
      "source": [
        "!python /content/gdrive/MyDrive/yolov3-new/final-rpject-yolo/tensorflowLite/test_images/test_tflite.py"
      ],
      "execution_count": null,
      "outputs": [
        {
          "output_type": "stream",
          "text": [
            "2021-02-20 19:38:49.173092: I tensorflow/stream_executor/platform/default/dso_loader.cc:48] Successfully opened dynamic library libcudart.so.10.1\n",
            "Traceback (most recent call last):\n",
            "  File \"/content/gdrive/MyDrive/yolov3-new/final-rpject-yolo/tensorflowLite/test_images/test_tflite.py\", line 138, in <module>\n",
            "    interpreter = tf.lite.Interpreter(model_path=model_path)\n",
            "  File \"/usr/local/lib/python3.6/dist-packages/tensorflow/lite/python/interpreter.py\", line 198, in __init__\n",
            "    model_path, self._custom_op_registerers))\n",
            "ValueError: Didn't find op for builtin opcode 'CONV_2D' version '5'\n",
            "Registration failed.\n",
            "\n"
          ],
          "name": "stdout"
        }
      ]
    }
  ]
}